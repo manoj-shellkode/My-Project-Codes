{
 "cells": [
  {
   "cell_type": "code",
   "execution_count": 27,
   "metadata": {},
   "outputs": [],
   "source": [
    "from langchain.llms.bedrock import Bedrock\n",
    "from langchain.text_splitter import RecursiveCharacterTextSplitter\n",
    "from langchain_community.embeddings.huggingface import HuggingFaceEmbeddings\n",
    "from langchain.vectorstores import FAISS\n",
    "from langchain.prompts import PromptTemplate\n",
    "from langchain.chains import RetrievalQA\n",
    "from langchain_community.document_loaders import PyPDFLoader\n",
    "import boto3\n",
    "import botocore\n",
    "config = botocore.config.Config(\n",
    "    read_timeout=900,\n",
    "    connect_timeout=900,\n",
    "    retries={\"max_attempts\": 0}\n",
    ")\n",
    "\n",
    "\n",
    "bedrock_client = boto3.client(\n",
    "    service_name=\"bedrock-runtime\",\n",
    "    region_name=\"us-east-1\",\n",
    "    config=config,\n",
    ")\n",
    "\n",
    "file_paths = [r\"C:\\Users\\Lenovo\\Documents\\Project-vs code\\Amazon Transcribe\\One Pharma\\ARTICLE—1.pdf\",\n",
    "              r\"C:\\Users\\Lenovo\\Documents\\Project-vs code\\Amazon Transcribe\\One Pharma\\ARTICLE.pdf\",\n",
    "              r\"C:\\Users\\Lenovo\\Documents\\Project-vs code\\Amazon Transcribe\\One Pharma\\test-1.pdf\"]\n",
    "\n",
    "docs = []\n",
    "for path in file_paths:\n",
    "    loader = PyPDFLoader(path)\n",
    "    docs.extend(loader.load())\n",
    "\n",
    "text_splitter = RecursiveCharacterTextSplitter(chunk_size=400,chunk_overlap=0)\n",
    "texts = text_splitter.split_documents(docs)\n",
    "\n",
    "embeddings = HuggingFaceEmbeddings(model_name=\"sentence-transformers/all-MiniLM-L6-v2\")\n",
    "db = FAISS.from_documents(documents=texts,embedding=embeddings)\n",
    "\n",
    "template = \"\"\"\n",
    "    Generate answers strictly from the given documents only, i need all the related and relevant answers from the documents\n",
    "        \n",
    "        Instructions:\n",
    "            - if the related or relavent answers available in multiple documents means print all the exact relavent results from all the documents\n",
    "            - Do not generate answers from your knowledge\n",
    "            - if there are multiple documents available means search for all the documents about asked question and display all the relevent and related results\n",
    "            - Must print the results even the single information is present on any of the given document based on the asked question\n",
    "            - Must strictly print the document name(name of the file along with the results)\n",
    "                for axample: if the query or question is about 'what is AI' or 'Tell me about AI' (if the answer is found on 2 documents means you should print like below)\n",
    "                            document 1(filename:)\n",
    "                                    Artificial intelligence (AI) is a branch of computer science that deals with the creation of intelligent agents, which are systems that can reason, learn, and act autonomously.\n",
    "                            document 2(filename:)\n",
    "                                    Artificial Intelligence (AI) refers to the simulation of human intelligence processes by machines, especially computer systems\n",
    "\n",
    "                        - so these are the examples for how you should answers if multiple answers are present on the multiple documents\n",
    "                        - if the answer is present on all the documents means you should print all the document's results along with the filename(metadata)\n",
    "                        - file name is present in the end of each documemt's metadata\n",
    "                            example: if the source is 'C:\\\\Users\\\\Lenovo\\\\Documents\\\\Project-vs code\\\\Amazon Transcribe\\\\One Pharma\\\\ARTICLE.pdf', here the file name is 'ARTICLE.pdf'\n",
    "                            so take the file name accurately\n",
    "\n",
    "    For example:\n",
    "        if question is about 'what is Galaxy?' means\n",
    "                You should search for 'Galaxy' in all the provided documents and return the results from all the documents (if availble)\n",
    "\n",
    "\n",
    "{context}\n",
    "{question}\n",
    "\"\"\"\n",
    "\n",
    "retriever = db.as_retriever(search_type='mmr', search_kwargs={\"k\": 5})\n",
    "llm = Bedrock(model_id=\"anthropic.claude-v2:1\",client=bedrock_client,model_kwargs = {\"temperature\":1e-10,\"max_tokens_to_sample\": 30000})\n",
    "qa_prompt = PromptTemplate(template=template, input_variables=[\"context\",\"question\"])\n",
    "chain_type_kwargs = { \"prompt\": qa_prompt, \"verbose\": False }\n",
    "qa = RetrievalQA.from_chain_type(\n",
    "    llm=llm,\n",
    "    chain_type=\"stuff\",\n",
    "    retriever=retriever,\n",
    "    chain_type_kwargs=chain_type_kwargs,\n",
    "    verbose=False\n",
    ")"
   ]
  },
  {
   "cell_type": "code",
   "execution_count": 33,
   "metadata": {},
   "outputs": [
    {
     "name": "stdout",
     "output_type": "stream",
     "text": [
      "[Document(page_content='4 \\n \\nGENERAL CONDITIONS  OF THE CONTRACT  \\nFOR PROVIDIG OPERATIONAL SERVICES  IN THE MESS OF HALL  \\nOF RESIDENCE NO. -__ \\n \\nARTICLE—1 \\n1.0 Definition of terms: \\n \\n In this Contract (as hereinafter defined) the following words and expressions \\nshall have meanings hereby assigned to them, except where the context \\nrequires otherwise:', metadata={'source': 'C:\\\\Users\\\\Lenovo\\\\Documents\\\\Project-vs code\\\\Amazon Transcribe\\\\One Pharma\\\\ARTICLE—1.pdf', 'page': 0}), Document(page_content='1.1 The \"Contract\" shall mean the agreement between the Institute and the \\nservice provider, duly signed by the parties to the Agreement, through their \\nauthorized representatives, for the execution of the work  as described in the \\nScope of Work of this document and all terms and conditions mentioned herein after.  \\n 1.2 The \"Service provider\" shall mean the person or persons, the firm or', metadata={'source': 'C:\\\\Users\\\\Lenovo\\\\Documents\\\\Project-vs code\\\\Amazon Transcribe\\\\One Pharma\\\\ARTICLE—1.pdf', 'page': 0}), Document(page_content=\"company who’s application for execution of work has been accepted by the \\nInstitute and includes the Service provider's legal representatives, his successors and permitted assignees. \\n 1.3 The “Empanelment” shall mean enlistment of service provider for a limited \\nperiod of 2 (Two) years, extendable at the end of the empanelment period at\", metadata={'source': 'C:\\\\Users\\\\Lenovo\\\\Documents\\\\Project-vs code\\\\Amazon Transcribe\\\\One Pharma\\\\ARTICLE—1.pdf', 'page': 0}), Document(page_content='the discretion of institute, for providing operational services in the messes of \\nHalls of Residences on the campus of the Institute.  \\n \\n1.4 The \"Hostel\" shall mean the Hall of Residence No.-__ and the \"Warden in-\\ncharge” shall mean the person nominated by the Institute from time to time \\nas warden incharge of the concerned hall of residence and shall include those', metadata={'source': 'C:\\\\Users\\\\Lenovo\\\\Documents\\\\Project-vs code\\\\Amazon Transcribe\\\\One Pharma\\\\ARTICLE—1.pdf', 'page': 0}), Document(page_content='who are expressly authorized by him/her to act on his/her behalf, for \\noperation of this contract and supervision of work. The Warden-in-\\ncharge/Warden or such representatives shall have power to impose \\nappropriate penalty in case there are violations of the provisions of the \\ncontract.   \\n 1.5 The \"Institute\" shall mean the Indian Institute of Technology Kanpur (IITK)', metadata={'source': 'C:\\\\Users\\\\Lenovo\\\\Documents\\\\Project-vs code\\\\Amazon Transcribe\\\\One Pharma\\\\ARTICLE—1.pdf', 'page': 0}), Document(page_content='with its premises located at Kalyanpur, Kanpur 208016 and shall include its authorized representatives, successors and assignees. \\n \\n1.6 The \"Letter of Empanelment” shall mean an official intimation from the \\nInstitute to empanelled agencies.   \\n   \\n1.7 The \"Hostel Executive Committee (HEC)\" shall mean a committee of \\nelected residents and hostel administration, which will be authorized to', metadata={'source': 'C:\\\\Users\\\\Lenovo\\\\Documents\\\\Project-vs code\\\\Amazon Transcribe\\\\One Pharma\\\\ARTICLE—1.pdf', 'page': 0}), Document(page_content='5 \\nregulate the activities related to the mess of Hall-__ on a day to day basis.  \\n \\n1.8 The \"Work\" shall mean and include all works to be executed, all items and \\nthings to be provided/done and services and activities to be performed by the \\nservice provider in accordance with the contract. \\n \\n________________', metadata={'source': 'C:\\\\Users\\\\Lenovo\\\\Documents\\\\Project-vs code\\\\Amazon Transcribe\\\\One Pharma\\\\ARTICLE—1.pdf', 'page': 1}), Document(page_content='6 \\nARTICLE—2 \\n \\n \\n2.0 Description of the Hall of Residence No.-__ \\n \\n2.1 The Hall of Residence No.-__ is a ____s’ Hostel situated inside the campus of \\nthe Institute with an exclusive and fully secured premise of its own. The \\nhostel is fully accessible for transport. The Hostel comprises rooms for residents with a centrally located dining facility, administrative block, coffee', metadata={'source': 'C:\\\\Users\\\\Lenovo\\\\Documents\\\\Project-vs code\\\\Amazon Transcribe\\\\One Pharma\\\\ARTICLE—1.pdf', 'page': 2}), Document(page_content='shop, etc. The hostel is designed to accommodate a total of ___ students \\napproximately with a minor variation.  \\n \\n2.2 The hostel residents generally stay on the premises and avail dining services \\nthroughout the academic year. \\n \\n2.3 Scholars otherwise employed in Institute may also be allowed to stay in the \\nhostel premises in addition to registered students. Such scholars shall also', metadata={'source': 'C:\\\\Users\\\\Lenovo\\\\Documents\\\\Project-vs code\\\\Amazon Transcribe\\\\One Pharma\\\\ARTICLE—1.pdf', 'page': 2}), Document(page_content='avail the mess facilities. \\n \\n2.4 Generally the strength of the residents re mains around 450 residents during  \\nthe academic year;  however, during the vacations this number may reduce \\nsubstantially.  \\n 2.5 Day-Boarders, who do not stay in the hostel, may also be allowed to avail the \\ndining facilities in Hall-__ as outside members by the Warden-in-\\ncharge/Warden.', metadata={'source': 'C:\\\\Users\\\\Lenovo\\\\Documents\\\\Project-vs code\\\\Amazon Transcribe\\\\One Pharma\\\\ARTICLE—1.pdf', 'page': 2}), Document(page_content='2.6 The hostel is provided with a self contained centralized mess, comprising of \\nkitchen and dining facility to prepare and serve meals to the residents and \\nother authorized persons.  The mess is well equipped with furniture, cooking  \\nfacilities, utensils, appliances and equipments; etc. \\n \\n2.7 The hostel is under the administration of a Warden in-charge/Warden who', metadata={'source': 'C:\\\\Users\\\\Lenovo\\\\Documents\\\\Project-vs code\\\\Amazon Transcribe\\\\One Pharma\\\\ARTICLE—1.pdf', 'page': 2}), Document(page_content='exercises overall control on all activities related to the hostel including dining services. \\n \\n \\n \\n________________', metadata={'source': 'C:\\\\Users\\\\Lenovo\\\\Documents\\\\Project-vs code\\\\Amazon Transcribe\\\\One Pharma\\\\ARTICLE—1.pdf', 'page': 2}), Document(page_content='7 \\nARTICLE—3 \\n \\n3.0   Scope of Work:  \\n  \\nThe contra ct is essentially for providing following messing services to the \\nresidents of  Hall of Residence No.-__. The Scope of Work, covered by the \\ncontract, is broadly but not extensively described as given below:  \\n \\na) Cooking and serving three meals - breakfast, lunch and dinner. The', metadata={'source': 'C:\\\\Users\\\\Lenovo\\\\Documents\\\\Project-vs code\\\\Amazon Transcribe\\\\One Pharma\\\\ARTICLE—1.pdf', 'page': 3}), Document(page_content='hostel reserves the right to include the service for the preparation and serving of evening tea and light snacks in addition to these three meals. The terms and conditions of such an addition will be worked \\nout as and when required; \\nb) Facilitate procurement of raw material for and on behalf of the hostel; \\nc) Managing and control of stocks and inventories;', metadata={'source': 'C:\\\\Users\\\\Lenovo\\\\Documents\\\\Project-vs code\\\\Amazon Transcribe\\\\One Pharma\\\\ARTICLE—1.pdf', 'page': 3}), Document(page_content='d) Coupon sales. Residents may use these coupons to get ‘extra’ items \\nnot included in the basic menu of the mess; \\ne) Cleaning of utensils, kitchen and serving items; \\nf) Cleaning of cooking, dining and auxiliary areas; \\ng) Security of the equipment, utensils and other items in the mess; \\nh) Maintenance of the equipment in the kitchen and dining areas;', metadata={'source': 'C:\\\\Users\\\\Lenovo\\\\Documents\\\\Project-vs code\\\\Amazon Transcribe\\\\One Pharma\\\\ARTICLE—1.pdf', 'page': 3}), Document(page_content='i) Maintenance of books, ledgers, other records and documents related to \\nrunning of the mess; \\nj) Deployment and supervision of required man power for the above \\nmentioned tasks. \\n 3.1 Each of the three meals that is, breakfast, lunch and dinner will be served \\nover a period of 2 to 2½ hours. The HEC  will decide the timings for each', metadata={'source': 'C:\\\\Users\\\\Lenovo\\\\Documents\\\\Project-vs code\\\\Amazon Transcribe\\\\One Pharma\\\\ARTICLE—1.pdf', 'page': 3}), Document(page_content='meal on different days. T he timings may be appropriately revised over the \\nyear as per academic and other activities, and the revised timings shall be communicated to the service provider well in advance.  The hostel may also \\nrequire the service provider to serve evening tea with snacks, and details such as the menu and timings will be communicated by the HEC  of the \\nhostel.', metadata={'source': 'C:\\\\Users\\\\Lenovo\\\\Documents\\\\Project-vs code\\\\Amazon Transcribe\\\\One Pharma\\\\ARTICLE—1.pdf', 'page': 3}), Document(page_content='3.2 The HEC shall provide a menu to the service provider, which shall usually be \\nfixed for a period of one month; the HEC reserves the right to change the \\nmenu from time to time. Any change in the menu shall be communicated in \\nwriting, adequately in advance, to the service provider by the HEC.  \\n \\n3.3 In addition to the menu given by the HEC, the service provider shall be', metadata={'source': 'C:\\\\Users\\\\Lenovo\\\\Documents\\\\Project-vs code\\\\Amazon Transcribe\\\\One Pharma\\\\ARTICLE—1.pdf', 'page': 3}), Document(page_content='required to provide extra messing facilities with items not covered under the \\nMenu. A list of the items to be provided on extra basis shall be made available to the service provider by the HEC.  \\n \\n3.4 The service provider shall provide services to facilitate procurement of raw materials including cooking fuel and food articles, as may be required for a', metadata={'source': 'C:\\\\Users\\\\Lenovo\\\\Documents\\\\Project-vs code\\\\Amazon Transcribe\\\\One Pharma\\\\ARTICLE—1.pdf', 'page': 3}), Document(page_content='8 \\nmenu, for and on behalf of the hostel. Payment towards the cost of such \\nmaterial shall be made by the hostel to the vendors or shopkeepers directly \\nagainst such bills submitted by them. \\n \\n3.5 The service provider shall ensure that sufficient care is taken on his part to \\nkeep the actual cost of the raw material  including cooking fuel within a value', metadata={'source': 'C:\\\\Users\\\\Lenovo\\\\Documents\\\\Project-vs code\\\\Amazon Transcribe\\\\One Pharma\\\\ARTICLE—1.pdf', 'page': 4}), Document(page_content='of Rupees ________________________________ only (Rs. ______) per student per \\nday. This value  should not go up by more than Rs. 3/- for a period of one \\nyear to absorb change in raw material cost. At the commencement of the \\ncontract the menu given in the Annexure – II is agreed upon within this \\nstated maximum price.', metadata={'source': 'C:\\\\Users\\\\Lenovo\\\\Documents\\\\Project-vs code\\\\Amazon Transcribe\\\\One Pharma\\\\ARTICLE—1.pdf', 'page': 4}), Document(page_content='3.6 The changes in the menu, as given in Article 3.2 may affect the cost of the raw material as defined in the Article-3.5, therefore changes in menu shall be carried out in a manner that they are acceptable to the hostel and also \\nthe service provider and the cost of raw material does not exceed the \\nmaximum of Rs. 50/- per student per day. If there is considerable price', metadata={'source': 'C:\\\\Users\\\\Lenovo\\\\Documents\\\\Project-vs code\\\\Amazon Transcribe\\\\One Pharma\\\\ARTICLE—1.pdf', 'page': 4}), Document(page_content='variation in the cost of the raw material in the market, the institute may \\nconsider revision in this maximum price on the written request from the \\nservice provider duly forwarded by the hostel. Details related to payments and changes therein on account of such decisions are given in Article 5.', metadata={'source': 'C:\\\\Users\\\\Lenovo\\\\Documents\\\\Project-vs code\\\\Amazon Transcribe\\\\One Pharma\\\\ARTICLE—1.pdf', 'page': 4}), Document(page_content='3.7 The service provider shall procure wholesome food articles of good quality in consultation with and to the satisfaction of the HEC. The HEC may draw up a list of potential vendors or determine the brand for any or all the items.   \\n \\n3.8 For sick students or any other resident, the service provider shall arrange to', metadata={'source': 'C:\\\\Users\\\\Lenovo\\\\Documents\\\\Project-vs code\\\\Amazon Transcribe\\\\One Pharma\\\\ARTICLE—1.pdf', 'page': 4}), Document(page_content='serve “sick diet” in the rooms. For students admitted to the Institute Health Center, the sick diet must be delivered in the Health Center. The sick diet \\nshall be defined and provided by the HEC  to the services provider. \\n \\n3.9 The service provider shall procure only good quality fresh vegetables from the market.  Storage of vegetables for more than 1 (one) day in summer months', metadata={'source': 'C:\\\\Users\\\\Lenovo\\\\Documents\\\\Project-vs code\\\\Amazon Transcribe\\\\One Pharma\\\\ARTICLE—1.pdf', 'page': 4}), Document(page_content='and 3 (three) days in winter months at a stretch shall not be permitted. \\nHowever, the service provider shall ensure that a sufficient stock of other raw \\nmaterial is available in the store for consumption for a minimum period of 15 \\n(fifteen) days. The HEC  shall have the right to check the quality of food \\narticles and vegetables from time to time.', metadata={'source': 'C:\\\\Users\\\\Lenovo\\\\Documents\\\\Project-vs code\\\\Amazon Transcribe\\\\One Pharma\\\\ARTICLE—1.pdf', 'page': 4}), Document(page_content='3.10 The HEC shall be authorized to impose an appropriate fine on the service \\nprovider in case of sub-standard quality of food items, malpractice, lack of \\nhygiene or violation of any of the conditions of the contract. \\n \\n3.11 The mess premises comprising, cooking and dining facilities, furniture, \\nfood/raw material containers, appliances, utensils, electricity and water', metadata={'source': 'C:\\\\Users\\\\Lenovo\\\\Documents\\\\Project-vs code\\\\Amazon Transcribe\\\\One Pharma\\\\ARTICLE—1.pdf', 'page': 4}), Document(page_content='shall be provided by the Institute free of cost. However, cleaning/washing \\nmaterials/tools and man power to properly maintain this infrastructure shall', metadata={'source': 'C:\\\\Users\\\\Lenovo\\\\Documents\\\\Project-vs code\\\\Amazon Transcribe\\\\One Pharma\\\\ARTICLE—1.pdf', 'page': 4}), Document(page_content='4 \\n \\nGENERAL CONDITIONS  OF THE CONTRACT  \\nFOR PROVIDIG OPERATIONAL SERVICES  IN THE MESS OF HALL  \\nOF RESIDENCE NO. -__ \\n \\nARTICLE—1 \\n1.0 Definition of terms: \\n \\n In this Contract (as hereinafter defined) the following words and expressions \\nshall have meanings hereby assigned to them, except where the context \\nrequires otherwise:', metadata={'source': 'C:\\\\Users\\\\Lenovo\\\\Documents\\\\Project-vs code\\\\Amazon Transcribe\\\\One Pharma\\\\ARTICLE.pdf', 'page': 0}), Document(page_content='1.1 The \"Contract\" shall mean the agreement between the Institute and the \\nservice provider, duly signed by the parties to the Agreement, through their \\nauthorized representatives, for the execution of the work  as described in the \\nScope of Work of this document and all terms and conditions mentioned herein after.  \\n 1.2 The \"Service provider\" shall mean the person or persons, the firm or', metadata={'source': 'C:\\\\Users\\\\Lenovo\\\\Documents\\\\Project-vs code\\\\Amazon Transcribe\\\\One Pharma\\\\ARTICLE.pdf', 'page': 0}), Document(page_content=\"company who’s application for execution of work has been accepted by the \\nInstitute and includes the Service provider's legal representatives, his successors and permitted assignees. \\n 1.3 The “Empanelment” shall mean enlistment of service provider for a limited \\nperiod of 2 (Two) years, extendable at the end of the empanelment period at\", metadata={'source': 'C:\\\\Users\\\\Lenovo\\\\Documents\\\\Project-vs code\\\\Amazon Transcribe\\\\One Pharma\\\\ARTICLE.pdf', 'page': 0}), Document(page_content='the discretion of institute, for providing operational services in the messes of \\nHalls of Residences on the campus of the Institute.  \\n \\n1.4 The \"Hostel\" shall mean the Hall of Residence No.-__ and the \"Warden in-\\ncharge” shall mean the person nominated by the Institute from time to time \\nas warden incharge of the concerned hall of residence and shall include those', metadata={'source': 'C:\\\\Users\\\\Lenovo\\\\Documents\\\\Project-vs code\\\\Amazon Transcribe\\\\One Pharma\\\\ARTICLE.pdf', 'page': 0}), Document(page_content='who are expressly authorized by him/her to act on his/her behalf, for \\noperation of this contract and supervision of work. The Warden-in-\\ncharge/Warden or such representatives shall have power to impose \\nappropriate penalty in case there are violations of the provisions of the \\ncontract.   \\n 1.5 The \"Institute\" shall mean the Indian Institute of Technology Kanpur (IITK)', metadata={'source': 'C:\\\\Users\\\\Lenovo\\\\Documents\\\\Project-vs code\\\\Amazon Transcribe\\\\One Pharma\\\\ARTICLE.pdf', 'page': 0}), Document(page_content='with its premises located at Kalyanpur, Kanpur 208016 and shall include its authorized representatives, successors and assignees. \\n \\n1.6 The \"Letter of Empanelment” shall mean an official intimation from the \\nInstitute to empanelled agencies.   \\n   \\n1.7 The \"Hostel Executive Committee (HEC)\" shall mean a committee of \\nelected residents and hostel administration, which will be authorized to', metadata={'source': 'C:\\\\Users\\\\Lenovo\\\\Documents\\\\Project-vs code\\\\Amazon Transcribe\\\\One Pharma\\\\ARTICLE.pdf', 'page': 0}), Document(page_content=\"A contract is essentially a legally binding agreement between two or more parties. It \\nlays out specific rights and obligations that each party involved has to follow. Think of \\nit as a formal way to ensure everyone involved in the agreement is on the same \\npage and understands what's expected of them.  \\nHere's a breakdown of some key points about contracts:\", metadata={'source': 'C:\\\\Users\\\\Lenovo\\\\Documents\\\\Project-vs code\\\\Amazon Transcribe\\\\One Pharma\\\\test-1.pdf', 'page': 0}), Document(page_content='\\uf0b7 Legally enforceable:  This is wh at separates a contract from a regular agreement. If \\nsomeone breaches the contract (fails to uphold their end of the deal), the injured \\nparty can take legal action to seek compensation or enforce the terms of the \\nagreement.  \\n\\uf0b7 Exchange of value:  There needs t o be a reason for the contract to exist. This', metadata={'source': 'C:\\\\Users\\\\Lenovo\\\\Documents\\\\Project-vs code\\\\Amazon Transcribe\\\\One Pharma\\\\test-1.pdf', 'page': 0}), Document(page_content=\"usually involves an exchange of something valuable, such as money, goods, or \\nservices. For instance, you might enter a contract with a plumber to fix your sink; \\nyou'd be paying them money for their service.  \\n\\uf0b7 Formal vs. Informal:  Contracts can be written or verbal. However, written contracts \\nare generally considered stronger evidence in case of a disagreement.\", metadata={'source': 'C:\\\\Users\\\\Lenovo\\\\Documents\\\\Project-vs code\\\\Amazon Transcribe\\\\One Pharma\\\\test-1.pdf', 'page': 0}), Document(page_content='\\uf0b7 Widespread use:  Contracts are used in all sorts of situations, from business deals \\nand employment agreeme nts to renting an apartment or buying a house.  \\n \\n \\nEngineering is the discipline and profession of applying scientific knowledge to develop \\nsolutions for technical problems. Engineers use their creativity, problem -solving abilities, and', metadata={'source': 'C:\\\\Users\\\\Lenovo\\\\Documents\\\\Project-vs code\\\\Amazon Transcribe\\\\One Pharma\\\\test-1.pdf', 'page': 0}), Document(page_content='knowledge of scientifi c principles to design and build structures, machines, devices, \\nsystems, materials, and processes . \\nEngineers play a vital role in our society, and their work has helped to shape the modern \\nworld in countless ways .', metadata={'source': 'C:\\\\Users\\\\Lenovo\\\\Documents\\\\Project-vs code\\\\Amazon Transcribe\\\\One Pharma\\\\test-1.pdf', 'page': 0})]\n"
     ]
    }
   ],
   "source": [
    "print(texts)"
   ]
  },
  {
   "cell_type": "code",
   "execution_count": 32,
   "metadata": {},
   "outputs": [
    {
     "name": "stdout",
     "output_type": "stream",
     "text": [
      " Here are the relevant excerpts about contracts from the documents:\n",
      "\n",
      "Document: GENERAL CONDITIONS OF THE CONTRACT\n",
      "\n",
      "\"In this Contract (as hereinafter defined) the following words and expressions \n",
      "shall have meanings hereby assigned to them, except where the context \n",
      "requires otherwise:\"\n",
      "\n",
      "Document: Engineering is the discipline and profession of applying scientific knowledge to develop \n",
      "solutions for technical problems. Engineers use their creativity, problem-solving abilities, and \n",
      "\n",
      "\"A contract is essentially a legally binding agreement between two or more parties. It  \n",
      "lays out specific rights and obligations that each party involved has to follow. Think of  \n",
      "it as a formal way to ensure everyone involved in the agreement is on the same  \n",
      "page and understands what's expected of them.\"\n",
      "\n",
      "\"Legally enforceable:  This is wh at separates a contract from a regular agreement. If  \n",
      "someone breaches the contract (fails to uphold their end of the deal), the injured \n",
      "party can take legal action to seek compensation or enforce the terms of the  \n",
      "agreement.\"\n"
     ]
    }
   ],
   "source": [
    "question=\"what is contract describe about\"\n",
    "result = qa.run(question)\n",
    "print(result)"
   ]
  }
 ],
 "metadata": {
  "kernelspec": {
   "display_name": "base",
   "language": "python",
   "name": "python3"
  },
  "language_info": {
   "codemirror_mode": {
    "name": "ipython",
    "version": 3
   },
   "file_extension": ".py",
   "mimetype": "text/x-python",
   "name": "python",
   "nbconvert_exporter": "python",
   "pygments_lexer": "ipython3",
   "version": "3.11.5"
  }
 },
 "nbformat": 4,
 "nbformat_minor": 2
}
