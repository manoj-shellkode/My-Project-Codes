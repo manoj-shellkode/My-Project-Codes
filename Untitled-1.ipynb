{
 "cells": [
  {
   "cell_type": "code",
   "execution_count": 4,
   "metadata": {},
   "outputs": [],
   "source": [
    "from langchain_community.document_loaders import AmazonTextractPDFLoader\n",
    "import boto3\n",
    "\n",
    "textract_client = boto3.client(\"textract\", region_name=\"us-west-2\")\n",
    "textract_features=[\"TABLES\"]\n",
    "file_path = \"s3://my-s3-doc-loader/517792954-SBI-Card-Statement-0824-22-07-2021.pdf\"\n",
    "loader = AmazonTextractPDFLoader(file_path,textract_features,client=textract_client)\n",
    "docs = loader.load()"
   ]
  },
  {
   "cell_type": "code",
   "execution_count": 5,
   "metadata": {},
   "outputs": [
    {
     "data": {
      "text/plain": [
       "\"BPCL SBI Card OCTANE\\r\\nMonthly Statement\\r\\nSBI card\\r\\nGSTIN of SBI Card 06AAECS5981K1ZV\\r\\nStmt/Debit Note/Credit Note/Tax Invoice\\r\\n(DUPLICATE FOR SUPPLIER)\\r\\nSUNIL KUMAR YADAV\\r\\nCredit Card Number\\r\\nTHAT Pedia HISHI\\r\\nXXXX XXXX XXXX XX24\\r\\n*Total Amount Due (₹)\\r\\nCREDIT\\r\\n33,051.00\\r\\nincl. EMI\\r\\n0000\\r\\n\\r\\n\\r\\nPLACE OF SUPPLY\\tUP/9/UTTAR PRADESH\\nSTMT No. :\\tB21073266361\\n\\r\\n\\r\\nMinimum Amount Due (₹)\\r\\n5,717.00\\r\\nPay Now\\r\\nThe Expiry Date indicates the\\r\\nvalidity of your Credit Card\\r\\n\\r\\n\\r\\nCredit Limit (₹ ) (including cash)\\tCash Limit (₹ (as part of credit limit)\\tStatement Date\\n2,00,000.00\\t60,000.00\\t22 Jul 2021\\n\\r\\n\\r\\nIS T HAIRT\\r\\nPEGIN AT the\\r\\nNEVER SHARE it with anyone!\\r\\nPT HA HISH To\\r\\n\\r\\n\\r\\nAvailable Credit Limit (₹)\\tAvailable Cash Limit (₹)\\tPayment Due Date\\n1,58,903.54\\t60,000.00\\t11 Aug 2021\\n\\r\\n\\r\\nACCOUNT SUMMARY\\r\\n\\r\\n\\r\\n\\t\\t\\t\\t\\n\\t\\t\\tAdditions\\t\\nPrevious Balance (₹)\\tPayments, Reversals & other Credits (₹)\\tPurchases & Other Debits (₹)\\tFee, Taxes & Interest Charges (₹)\\tTotal Outstanding (₹)\\n13,396.71\\t13,778.47\\t39,150.60\\t2,327.62\\t41,096.00\\n\\r\\n\\r\\n©SBICARD\\r\\nSHOP & SMILE SUMMARY\\r\\nVISA\\r\\nVIJAY KUMAR\\r\\n\\r\\n\\r\\nPrevious Balance\\tEarned\\tRedeemed/Expired /Forfeited\\tClosing Balance\\tPoints Expiry Details\\n2450\\t2706\\t119\\t5037\\tNONE\\n\\r\\n\\r\\nENJOY REWARDS\\r\\nAT EVERY MILE\\r\\nAvail exclusive privileges with BPCL SBI Card OCTANE.\\r\\n\\r\\n\\r\\nDate\\tTransaction Details for Statement dated 22 Jul 2021\\tAmount (₹)\\n09 Jul 21\\tPETROL TRXN FEE RVRSL EXCLUDING TAX\\t39.00 C\\n15 Jul 21\\tFEE LATE PAYMENT (EXCL TAX 171.00)\\t950.00 D\\n15 Jul 21\\tPETROL TRXN FEE RVRSL EXCLUDING TAX\\t38.99 C\\n18 Jul 21\\tPAYMENT RECEIVED (000000000VSB10122352237\\t13,397.00 C\\n20 Jul 21\\tPETROL TRXN FEE RVRSL EXCLUDING TAX\\t22.01 C\\n22 Jul 21\\tFP EMI '03(EXCL TAX 25.37)\\t4,094.00 M\\n22 Jul 21\\tINTEREST ON EMI\\t140.95 D\\n22 Jul 21\\tFIN CHARGE ON RETAIL (EXCL TAX 158.69)\\t881.61 D\\n\\tIGST DB @ 18.00%\\t355.06 D\\n\\tTRANSACTIONS FOR SUNIL KUMAR YADAV\\t\\n25 Jun 21\\tFLIPKART PAYMENTS GURGAON IN\\t1,099.00 D\\n25 Jun 21\\tFLIPKART PAYMENTS GURGAON IN\\t399.00 D\\n27 Jun 21\\tNAYAN FILLING STATION LUCKNOW IN\\t3,088.88 D\\n02 Jul 21\\tAMAZON PAY INDIA PRIVA BANGALORE IN\\t234.82 D\\n02 Jul 21\\tAMAZON PAY INDIA PRIVA BANGALORE IN\\t44.58 D\\n02 Jul 21\\tAMAZON PAY INDIA PRIVA BANGALORE IN\\t306.36 D\\n03 Jul 21\\tIRCTC WWW.IRCTC.CO. IN\\t281.47 D\\n03 Jul 21\\tFLIPKART PAYMENTS GURGAON IN (Pay in EMIs)\\t4,799.00 D\\n06 Jul 21\\tIRCTC WWW.IRCTC.CO. IN\\t278.19 C\\n06 Jul 21\\tSUDHA FILLING STATION LUCKNOW IN\\t3,743.66 D\\n08 Jul 21\\tPAYTM WWW.PAYTM.COM IN\\t2,224.66 D\\n08 Jul 21\\tIRCTC WWW.IRCTC.CO.IN\\t3.28 C\\n09 Jul 21\\tGOKUL FILLING STATION UNNAO IN\\t3,947.39 D\\n15 Jul 21\\t#FLIPKART PAYMENTS BANGALORE IN (Pay in EMIs)\\t11,999.00 D\\n15 Jul 21\\tHIGHWAY TRUCK SERVICE UNNAO IN\\t3,945.36 D\\n17 Jul 21\\tTRANSFER TO MERCHANT EMI\\t11,999.00\\n20 Jul 21\\tAMAR HIGHWAY SERVICE S UNNAO IN\\t3,037.42 D\\n\\t\\t\\n\\r\\n\\r\\n7.25% Value back on spends at BPCL\\r\\nFuel stations\\r\\n4\\r\\n6.25% Value back on Bharatgas payments\\r\\nthrough Website and Mobile app\\r\\nM\\r\\n10X Reward Points on Departmental\\r\\nstores, Grocery, Movies & Dining spends\\r\\n4 Complimentary Domestic Airport\\r\\nLounge Access in a year\\r\\n*T&C Apply\\r\\nSTAY HEALTHY.\\r\\nSTAY SAFE.\\r\\nExclusive savings at 1mg\\r\\nUp to 20% Discount on medicines\\r\\n10% Off on E-consultation\\r\\nPromo Code: SBI1MG2021\\r\\nValid till 31 Dec 2021\\r\\nTransactions highlighted in grey color, if any, do not form part of Purchases & Other Debits; #Transactions lly/partially converted to Flexipay/Encash/Merchant EMI.\\r\\nC=Credit; D=Debit; EN=Encash; FP=Flexipay; EMD=Easy Money Draft; BT=Balance Transfer; M=Monthly Installments; TAD=Total Amount Due; Temporary Credit.\\r\\nImportant Messages\\r\\n>W.e.f. 01 Sep 2021, the rate of finance charges will be revised to 2.75% p.m. from 2.5% p.m. on all secured SBI Credit Card.\\r\\n>\\r\\nW.e.f. 01 Sep 2021, the fee levied on cash payment at bank branches towards the Total Amount Due against your SBI Credit Card will be revised to Rs. 250 from Rs. 199. Please note, this charge is excluding\\r\\napplicable taxes.\\r\\n>\\r\\nW.e.f. 01 Sep 2021, the fee of Rs. 200 levied on any new request related to increase of credit limit or for changing the network on your SBI Credit Card will not be applicable.\\r\\n> Please note, processing fees to be levied on booking of merchant EMI for all credit card transactions of value greater than Rs. 10,000 has been deferred until further notice.\\r\\n> Please note, conversion of negative Reward Points balance to statement debit of equivalent amount, in case of negative Reward Points balance for 2 consecutive statement cycles, has been deferred until further notice. T&C.\\r\\n*Total Amount Due (TAD) needs to be paid by payment due date to avoid levy of finance charges on new transactions done after the statement date. The difference. if any, between the Total Amount Due and the Total\\r\\nOutstanding is the balance on the Flexipay/Encash/Installmentsas applicable\\r\\n**\\r\\nTo\\r\\nkeep your credit card in good standing, you have the option of paying atleast the minimum amount due on or before the due date. The Minimum Amount Due includes the EMI on Flexipay/Encash/Installment\\r\\namounts & 100% of all applicable taxes. Content of this statement will be considered correct if no error is reported within 20 days.\""
      ]
     },
     "execution_count": 5,
     "metadata": {},
     "output_type": "execute_result"
    }
   ],
   "source": [
    "docs[0].page_content"
   ]
  },
  {
   "cell_type": "code",
   "execution_count": null,
   "metadata": {},
   "outputs": [],
   "source": []
  }
 ],
 "metadata": {
  "kernelspec": {
   "display_name": "base",
   "language": "python",
   "name": "python3"
  },
  "language_info": {
   "codemirror_mode": {
    "name": "ipython",
    "version": 3
   },
   "file_extension": ".py",
   "mimetype": "text/x-python",
   "name": "python",
   "nbconvert_exporter": "python",
   "pygments_lexer": "ipython3",
   "version": "3.11.5"
  }
 },
 "nbformat": 4,
 "nbformat_minor": 2
}
