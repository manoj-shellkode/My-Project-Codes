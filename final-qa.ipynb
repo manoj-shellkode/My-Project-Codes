{
 "cells": [
  {
   "cell_type": "code",
   "execution_count": 11,
   "metadata": {},
   "outputs": [],
   "source": [
    "import boto3\n",
    "from langchain.text_splitter import RecursiveCharacterTextSplitter\n",
    "from langchain.embeddings import HuggingFaceEmbeddings\n",
    "from langchain.vectorstores import FAISS\n",
    "from langchain.prompts import PromptTemplate\n",
    "from langchain.chains import RetrievalQA\n",
    "from langchain.llms.bedrock import Bedrock\n",
    "from langchain.document_loaders import S3FileLoader\n",
    "from bedrock import get_bedrock_client\n",
    "bedrock_client = get_bedrock_client(region='us-east-1', runtime=True)\n",
    "\n",
    "s3 = boto3.client('s3')\n",
    "\n",
    "bucket_name = 'my-s3-doc-loader'\n",
    "response = s3.list_objects_v2(Bucket=bucket_name)\n",
    "\n",
    "file_names = []\n",
    "for obj in response['Contents']:\n",
    "    key = obj['Key']\n",
    "    file_names.append(key)\n",
    "\n",
    "for context_key in file_names:\n",
    "    loader = S3FileLoader(bucket=bucket_name, key=context_key)\n",
    "    context_content = loader.load()\n",
    "\n",
    "text_splitter = RecursiveCharacterTextSplitter(chunk_size=3000,separators=[\"\\n\\n\", \"\\n\", \".\", \"!\", \"?\", \",\", \" \", \"\"])\n",
    "context_texts = text_splitter.split_documents(context_content)\n",
    "\n",
    "embeddings = HuggingFaceEmbeddings(model_name=\"sentence-transformers/all-MiniLM-L6-v2\")\n",
    "db = FAISS.from_documents(documents=context_texts, embedding=embeddings)\n",
    "\n",
    "retriever = db.as_retriever(search_type='mmr', search_kwargs={\"k\": 5})\n",
    "\n",
    "template = \"\"\"\n",
    "Human: Answer truthfully based on the given question, fetch the answer only from the given text documents\n",
    "Instruction:\n",
    "1.If multiple files are there, read the all the files each and every lines accurately for to generate answer\n",
    "2.If there is no text found in the text document about the asked question ,\"print no result found\"\n",
    "3.Generate answer whatever available related to the question\n",
    "4.Must complete the sentence in the result fully, do not leave results incomplete format in the end.\n",
    "text:{context}\n",
    "question:{question}\n",
    "Assistant:\"\"\"\n",
    "qa_prompt = PromptTemplate(template=template, input_variables=[\"context\",\"question\"])\n",
    "chain_type_kwargs = { \"prompt\": qa_prompt}\n",
    "llm = Bedrock(model_id=\"anthropic.claude-v2\",client=bedrock_client)\n",
    "qa = RetrievalQA.from_chain_type(\n",
    "    llm=llm,\n",
    "    chain_type=\"stuff\",\n",
    "    retriever=retriever,\n",
    "    chain_type_kwargs=chain_type_kwargs,\n",
    "    verbose=False\n",
    ")\n"
   ]
  },
  {
   "cell_type": "code",
   "execution_count": 22,
   "metadata": {},
   "outputs": [
    {
     "name": "stdout",
     "output_type": "stream",
     "text": [
      " Based on the given text documents, here is the answer to your question about glaucoma:\n",
      "\n",
      "Glaucoma is an eye condition that damages the optic nerve, which is vital for good vision. This damage is often caused by an abnormally high pressure in your eye. Glaucoma tends to develop slowly over time and can lead to loss of vision if it's not treated.\n",
      "\n",
      "The optic nerve is a bundle of more than 1 million nerve fibers that connect the retina to the brain. It runs from your eye to your brain and is key to good vision. Glaucoma damages the optic nerve, often because of increased pressure in your eye. Over time, glaucoma can diminish peripheral vision.\n",
      "\n",
      "Glaucoma is one of the leading causes of blindness for people over 60 years old. But blindness from glaucoma can often be prevented with early treatment.\n",
      "\n",
      "No result found in the given text related to symptoms or treatment of glaucoma.\n"
     ]
    }
   ],
   "source": [
    "question=\"what is Glaucoma?\"\n",
    "result = qa.run(question)\n",
    "print(result)"
   ]
  }
 ],
 "metadata": {
  "kernelspec": {
   "display_name": "base",
   "language": "python",
   "name": "python3"
  },
  "language_info": {
   "codemirror_mode": {
    "name": "ipython",
    "version": 3
   },
   "file_extension": ".py",
   "mimetype": "text/x-python",
   "name": "python",
   "nbconvert_exporter": "python",
   "pygments_lexer": "ipython3",
   "version": "3.11.5"
  }
 },
 "nbformat": 4,
 "nbformat_minor": 2
}
