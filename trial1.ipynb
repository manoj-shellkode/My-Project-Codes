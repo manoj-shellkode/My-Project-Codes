{
 "cells": [
  {
   "cell_type": "code",
   "execution_count": 19,
   "metadata": {},
   "outputs": [],
   "source": [
    "from langchain.llms.bedrock import Bedrock\n",
    "from langchain.prompts import PromptTemplate\n",
    "from langchain_community.document_loaders import PyPDFLoader\n",
    "import boto3\n",
    "from langchain.chains import LLMChain\n",
    "import botocore\n",
    "config = botocore.config.Config(\n",
    "    read_timeout=900,\n",
    "    connect_timeout=900,\n",
    "    retries={\"max_attempts\": 0}\n",
    ")\n",
    "\n",
    "\n",
    "bedrock_client = boto3.client(\n",
    "    service_name=\"bedrock-runtime\",\n",
    "    region_name=\"us-east-1\",\n",
    "    config=config,\n",
    ")\n",
    "\n",
    "file_paths = [r\"C:\\Users\\Lenovo\\Documents\\Project-vs code\\Amazon Transcribe\\One Pharma\\test-1.pdf\",\n",
    "              r\"C:\\Users\\Lenovo\\Documents\\Project-vs code\\Amazon Transcribe\\One Pharma\\test-2.pdf\",\n",
    "              r\"C:\\Users\\Lenovo\\Documents\\Project-vs code\\Amazon Transcribe\\One Pharma\\test-3.pdf\",\n",
    "              r\"C:\\Users\\Lenovo\\Documents\\Project-vs code\\Amazon Transcribe\\One Pharma\\test-4.pdf\",\n",
    "              r\"C:\\Users\\Lenovo\\Documents\\Project-vs code\\Amazon Transcribe\\One Pharma\\test-5.pdf\",\n",
    "              r\"C:\\Users\\Lenovo\\Documents\\Project-vs code\\Amazon Transcribe\\One Pharma\\test-6.pdf\"]\n",
    "\n",
    "docs = []\n",
    "for path in file_paths:\n",
    "    loader = PyPDFLoader(path)\n",
    "    docs.extend(loader.load())\n",
    "\n",
    "\n",
    "template = \"\"\"\n",
    "    Generate answers strictly from the given documents only, i need all the related and relevant answers from the documents\n",
    "        \n",
    "        Instructions:\n",
    "            - if the related or relavent answers available in multiple documents means print all the exact relavent results from all the documents\n",
    "            - Do not generate answers from your knowledge\n",
    "            - if there are multiple documents available means search for all the documents about asked question and display all the relevent and related results\n",
    "            - Must print the results even the single information is present on any of the given document based on the asked question\n",
    "            - Must print all the relevent results about the asked question{question}\n",
    "            - strictly avoid or remove'\\n' while printing the results\n",
    "            - Must strictly print the document name(name of the file along with the results)\n",
    "                for axample: if the query or question is about 'what is AI' or 'Tell me about AI' (if the answer is found on 2 documents means you should print like below)\n",
    "                            document 1(filename:)\n",
    "                                    Artificial intelligence (AI) is a branch of computer science that deals with the creation of intelligent agents, which are systems that can reason, learn, and act autonomously.\n",
    "                            document 2(filename:)\n",
    "                                    Artificial Intelligence (AI) refers to the simulation of human intelligence processes by machines, especially computer systems\n",
    "\n",
    "                        - so these are the examples for how you should answers if multiple answers are present on the multiple documents\n",
    "                        - if the answer is present on all the documents means you should print all the document's results along with the filename(metadata)\n",
    "                        - file name is present in the end of each documemt's metadata\n",
    "                            example: if the (metadata)source is 'C:\\\\Users\\\\Lenovo\\\\Documents\\\\Project-vs code\\\\Amazon Transcribe\\\\One Pharma\\\\ARTICLE.pdf', here the file name is 'ARTICLE.pdf'\n",
    "                            so take the file name accurately\n",
    "\n",
    "    For example:\n",
    "        if question is about 'what is Galaxy?' means\n",
    "                You should search for 'Galaxy' in all the provided documents and return the results from all the documents (if availble)\n",
    "\n",
    "\n",
    "{datas}\n",
    "{question}\n",
    "\"\"\"\n",
    "\n",
    "qa_prompt = PromptTemplate(template=template, input_variables=[\"datas\",\"question\"])\n",
    "llm = Bedrock(model_id=\"anthropic.claude-v2:1\",client=bedrock_client,model_kwargs = {\"temperature\":1e-10,\"max_tokens_to_sample\": 40000})\n",
    "llm_chain = LLMChain(prompt=qa_prompt, llm=llm, verbose= False)"
   ]
  },
  {
   "cell_type": "code",
   "execution_count": 15,
   "metadata": {},
   "outputs": [
    {
     "name": "stdout",
     "output_type": "stream",
     "text": [
      "[Document(page_content=\"A contract is essentially a legally binding agreement between two or more parties. It \\nlays out specific rights and obligations that each party involved has to follow. Think of \\nit as a formal way to ensure everyone involved in the agreement is on the same \\npage and understands what's expected of them.  \\nHere's a breakdown of some key points about contracts:  \\n\\uf0b7 Legally enforceable:  This is wh at separates a contract from a regular agreement. If \\nsomeone breaches the contract (fails to uphold their end of the deal), the injured \\nparty can take legal action to seek compensation or enforce the terms of the \\nagreement.  \\n\\uf0b7 Exchange of value:  There needs t o be a reason for the contract to exist. This \\nusually involves an exchange of something valuable, such as money, goods, or \\nservices. For instance, you might enter a contract with a plumber to fix your sink; \\nyou'd be paying them money for their service.  \\n\\uf0b7 Formal vs. Informal:  Contracts can be written or verbal. However, written contracts \\nare generally considered stronger evidence in case of a disagreement.  \\n\\uf0b7 Widespread use:  Contracts are used in all sorts of situations, from business deals \\nand employment agreeme nts to renting an apartment or buying a house.  \\n \\n \\nEngineering is the discipline and profession of applying scientific knowledge to develop \\nsolutions for technical problems. Engineers use their creativity, problem -solving abilities, and \\nknowledge of scientifi c principles to design and build structures, machines, devices, \\nsystems, materials, and processes . \\nEngineers play a vital role in our society, and their work has helped to shape the modern \\nworld in countless ways . \", metadata={'source': 'C:\\\\Users\\\\Lenovo\\\\Documents\\\\Project-vs code\\\\Amazon Transcribe\\\\One Pharma\\\\test-1.pdf', 'page': 0}), Document(page_content=\"Engineering is a vast field that encompasses the application of scientific \\nprinciples to design, create, maintain, and improve structures, machines, \\nsystems, and processes to solve real -world problems. It invo lves a combination \\nof creativity, technical skills, and knowledge of mathematics and science  \\n \\nMachine learning (ML) is a type of artificial intelligence (AI) that allows computers to \\nlearn without being explicitly programmed. It involves feeding computers w ith data \\nand algorithms that help them identify patterns and make predictions on their own.  \\nHere's a breakdown of how it works:  \\n\\uf0b7 Data is key:  Machine learning algorithms rely on large amounts of data to learn \\nfrom. This da ta can be anything from text and images to numbers and sound.  \\n\\uf0b7 Algorithms do the learning:  The data is fed into algorithms that are designed to \\nidentify patterns and relationships within the data. These algorithms can be complex \\nand involve a lot of math, b ut the basic idea is that they learn to recognize what's \\nimportant in the data.  \\n\\uf0b7 Making predictions:  Once the algorithms have learned from the data, they can be \\nused to make predictions about new data. For example, a machine learning \\nalgorithm that has been  trained on a bunch of emails can be used to identify spam \\nemails.  \\nMachine learning is used in a wide variety of applications, including:  \\n\\uf0b7 Recommendation systems:  Recommending products or services to users based \\non their past behavior (e.g., Netflix, Amazo n) \\n\\uf0b7 Image and speech recognition:  Identifying objects and people in images and \\nvideos, and converting speech to text (e.g., facial recognition software, voice \\nassistants)  \\n\\uf0b7 Fraud detection:  Identifying suspicious activity that might indicate fraud (e.g., cred it \\ncard companies)  \\n\\uf0b7 Self-driving cars:  Perceiving the environment and making decisions to navigate \\nsafely (e.g., Tesla)  \\nMachine learning is a rapidly growing field with the potential to revolutionize many \\naspects of our lives.  \\n \\n \\n \\n \\n \", metadata={'source': 'C:\\\\Users\\\\Lenovo\\\\Documents\\\\Project-vs code\\\\Amazon Transcribe\\\\One Pharma\\\\test-2.pdf', 'page': 0}), Document(page_content='Deep learning is a type of artificial intelligence (AI) that m imics the way the human \\nbrain works to learn from data. It uses artificial neural networks, which are complex \\nalgorithms inspired by the structure and function of the brain. These networks have \\nmultiple layers of interconnected nodes, and they can learn to  recognize patterns in \\ndata by processing it through these layers.  \\nHere\\'s a breakdown of how deep learning works:  \\n\\uf0b7 Neural networks:  Deep learning is based on artificial neural networks (ANNs), \\nwhich are computational models inspired by the biological neural networks in the \\nhuman brain. ANNs consist of interconnected nodes (artificial neurons) that transmit \\nsignals to each other.  \\n\\uf0b7 Learni ng from data:  Deep learning models are trained on large amounts of data. \\nThis data can be anything from images and text to sound and sensor readings. By \\nprocessing this data, the network can learn to identify patterns and relationships \\nwithin it.  \\n\\uf0b7 Multiple layers:  The term \"deep\" in deep learning refers to the number of layers in \\nthe neural network. Deep learning models typically have many layers, which allows \\nthem to learn increasingly complex patterns in the data.  \\n\\uf0b7 Applications:  Deep learning has a wide ran ge of applications, including image \\nrecognition, natural language processing, speech recognition, and recommendation \\nsystems. It is used in many of the AI -powered technologies that we interact with \\nevery day, such as self -driving cars, virtual assistants, and fraud detection systems.  \\n ', metadata={'source': 'C:\\\\Users\\\\Lenovo\\\\Documents\\\\Project-vs code\\\\Amazon Transcribe\\\\One Pharma\\\\test-2.pdf', 'page': 1}), Document(page_content=\"AI, or artificial intelligence, is a branch of computer science that deals with building \\nsmart machines capable of performing tasks that typically require human intelligence  \\nhttps://builtin.com/artificial -intelligence . These tasks can include things like:  \\n\\uf0b7 Interpreting speech  \\n\\uf0b7 Playing games  \\n\\uf0b7 Identifying patterns in data  \\n\\uf0b7 Making decisions  \\nAI achieves this by processing massive amounts of data and using algorithm s to \\nlearn from it. There are different approaches to AI, but some of the most common \\nones include machine learning and deep learning.  \\nHere's a breakdown of the different types of AI:  \\n\\uf0b7 Reactive machines:  These are the most basic type of AI and can only react to the \\ncurrent situation. They don't have any memory of past events. An example of this \\ncould be a simple chatbot that can only answer questions based on keywords.  \\n\\uf0b7 Limited memory machines:  These AI sys tems can store some information about \\npast events, which allows them to make better decisions. For instance, a \\nrecommendation system on a streaming service might consider what you've watched \\nin the past to suggest new shows.  \\n\\uf0b7 Theory of mind machines:  This i s a more advanced type of AI that is still \\ntheoretical. These machines would be able to understand the mental states of \\nothers, which would allow them to interact with us in more natural ways.  \\n\\uf0b7 Self-aware machines:  This is the holy grail of AI research and would represent \\nmachines with consciousness and self -awareness. While this is still science fiction, \\nresearchers are actively exploring the possibility of artificial general intelligence (AGI) \\nand artificial super intelligence (ASI).  \\nAI is already having a  big impact on our world, and it's only going to become more \\nimportant in the future. It's being used in everything from self -driving cars to medical \\ndiagnosis, and it has the potential to revolutionize many aspects of our lives.  \\n \\n \\n \\n \\n \\n \\n \\n \", metadata={'source': 'C:\\\\Users\\\\Lenovo\\\\Documents\\\\Project-vs code\\\\Amazon Transcribe\\\\One Pharma\\\\test-3.pdf', 'page': 0}), Document(page_content=\"Trading refers to the buy ing and selling of financial instruments like stocks, \\ncurrencies, commodities, or bonds with the goal of profiting from short -term price \\nmovements. It's distinct from investing, which typically involves a longer -term \\napproach.  \\nThink of it this way: investo rs are like marathon runners, aiming for steady growth \\nover time. Traders are more like sprinters, looking to capitalize on quick bursts of \\nprice changes.  \\nHere's a breakdown of some key points about trading:  \\n\\uf0b7 What's traded:  Stocks, currencies (forex), commodities (like oil or gold), and even \\ncomplex financial products like options.  \\n\\uf0b7 How it works:  Traders buy and sell these assets through online platforms or \\nbrokers. The goal is to buy low and sell high, profiting from the pric e difference.  \\n\\uf0b7 Types of trading:  There are various styles, like day trading (closing positions before \\nthe market closes) or swing trading (holding positions for a few days or weeks).  \\n\\uf0b7 Risks involved:  Trading can be risky due to market volatility. You could l ose money \\nif prices move against your predictions.  \\nIf you're interested in learning more about trading, here are some things to consider:  \\n\\uf0b7 Do your research:  Understand the financial markets and the specific assets you \\nwant to trade.  \\n\\uf0b7 Start with a demo accoun t: Many platforms offer virtual trading with fake money to \\npractice before risking real capital.  \\n\\uf0b7 Be aware of the risks:  Trading can be lucrative, but it involves significant risk. Only \\ninvest what you can afford to lose.  \\n \", metadata={'source': 'C:\\\\Users\\\\Lenovo\\\\Documents\\\\Project-vs code\\\\Amazon Transcribe\\\\One Pharma\\\\test-3.pdf', 'page': 1}), Document(page_content='Trading refers to the buying and selling of financia l instruments such as stocks, \\nbonds, commodities, currencies, or derivatives in various markets. The primary \\ngoal of trading is to generate profits by taking advantage of price fluctuations. \\nTraders typically aim to buy assets at a lower price and sell the m at a higher \\nprice, or sell assets at a higher price and buy them back at a lower price, \\ndepending on their market outlook and strategy.  \\nTrading  can be done in different timeframes, ranging fr om short -term intraday \\ntrading, where positions are opened and closed within the same trading day, \\nto medium -term swing trading, where positions are h eld for a few days or \\nweeks, to long -term investing, where positions are held for months or years.  \\n \\nA contract is a legally binding agreement between two or more p arties, \\noutlining the rights and obligations of each party involved. Contracts can cover \\na wide range of agreements, from simple purchase agreements to complex \\nbusiness arrangements. Key elements of a contract typically include an offer, \\nacceptance, consid eration (something of value exchanged between the \\nparties), legal capacity of the parties to enter into the agreement, and a lawful \\npurpose. Contracts can be verbal or written, though written contracts are \\ngenerally preferred as they provide clearer eviden ce of the terms agreed upon.  \\n \\n \\nAI, or Artificial Intelligence, refers to the simulation of human intelligence \\nprocesses by machines, especially computer systems. These processes include \\nlearning (the acquisition of information and rules for using the informat ion), \\nreasoning (using rules to reach approximate or definite conclusions), and self -\\ncorrection. AI can be categorized into two broad types: Narrow AI, which is \\ndesigned for a specific task, and General AI, which aims to replicate the \\nhuman -like intelligen ce capable of understanding, learning, and applying \\nknowledge across various domains. AI has applications in numerous fields, \\nincluding healthcare, finance, transportation, and entertainment, and it \\ncontinues to advance rapidly, impacting society in variou s ways.  \\n \\n \\n ', metadata={'source': 'C:\\\\Users\\\\Lenovo\\\\Documents\\\\Project-vs code\\\\Amazon Transcribe\\\\One Pharma\\\\test-4.pdf', 'page': 0}), Document(page_content=\"As an AI engineer, Ram is at the forefront of innovation, constantly pushing the \\nboundari es of what's possible in the realm of machine learning and robotics.  \\n \\nDevOps : \\nDevOps is a combination of cultural philosophies, practices, and tools that aims to \\nimprove collaboration and communication between software development (Dev) and \\nIT operations (Ops) team s. Its goal is to shorten the time it takes to develop, test, \\nand release new software features.  \\nTraditionally, Dev and Ops teams have worked in silos, which can lead to \\ninefficiencies and slow down the software development process. DevOps breaks \\ndown thes e silos and encourages teams to work together throughout the entire \\nsoftware lifecycle.  \\nHere are some of the key benefits of DevOps:  \\n\\uf0b7 Faster software delivery:  By automating tasks and improving communication, \\nDevOps can help teams deliver new features and u pdates more quickly.  \\n\\uf0b7 Improved software quality:  DevOps practices such as continuous integration and \\ncontinuous delivery (CI/CD) can help to identify and fix bugs early in the \\ndevelopment process.  \\n\\uf0b7 Increased reliability:  DevOps teams focus on building and de ploying reliable \\nsoftware that can withstand outages and errors.  \\n\\uf0b7 Greater agility:  DevOps allows teams to be more responsive to changes in the \\nmarket and customer needs.  \\n \\nData analysts are the information detectives of the business world. They use their \\nskills to collect, clean, analyze, and interpret data to extract valuable insights that \\ncan inform business decisions. Here's a breakdown of their key responsibilities:  \\n\\uf0b7 Data Acquisition:  Data analysts gather data from various sources like databases, \\nsurveys, customer relationship management (CRM) systems, and even social media. \\nThey may also write queries or scripts to extract specific data sets.  \\n\\uf0b7 Data Cleaning and Wrangling:  Raw data often contains errors or inconsistencies. \\nData analysts clean and organize th is data to ensure its accuracy before analysis. \\nThis might involve removing duplicates, correcting formatting errors, and filling in \\nmissing values.  \\n\\uf0b7 Data Analysis:  Once the data is clean, analysts use statistical methods and tools to \\nuncover patterns, tren ds, and relationships within the data. They might perform \\nvarious analyses like calculating averages, correlations, or even creating complex \\nmodels to understand the data better.  \\n\\uf0b7 Data Visualization:  Data analysts create charts, graphs, and dashboards to \\ncommunicate their findings in a clear and concise way. These visualizations help \\nstakeholders easily understand complex data and make data -driven decisions.  \", metadata={'source': 'C:\\\\Users\\\\Lenovo\\\\Documents\\\\Project-vs code\\\\Amazon Transcribe\\\\One Pharma\\\\test-5.pdf', 'page': 0}), Document(page_content=\"\\uf0b7 Communication and Storytelling:  Data analysts don't just crunch numbers; they \\nalso need to effectivel y communicate their insights to both technical and non -\\ntechnical audiences. They might create reports, presentations, or even dashboards \\nto explain their findings and recommendations.  \\nIn short, data analysts bridge the gap between raw data and actionable i nsights. \\nThey play a crucial role in helping businesses improve efficiency, identify new \\nopportunities, and make better decisions based on data.  \\n \", metadata={'source': 'C:\\\\Users\\\\Lenovo\\\\Documents\\\\Project-vs code\\\\Amazon Transcribe\\\\One Pharma\\\\test-5.pdf', 'page': 1}), Document(page_content=\"Ram, a cybersecurity analyst, safeguards critical digital infrastructure from \\ncyber threats, utilizing his expertise to prevent data breaches and \\nunauthorized access.  \\n \\nData analysts collect, process, and analyze data to help organizations make \\ninformed decisions. Their responsibilities typically include:  \\nData Collection: They gather data from various sources such as databases, \\nspreadsheets, surveys, and more.  \\nData Cleani ng: Raw data often contains errors, inconsistencies, or missing \\nvalues. Data analysts clean and preprocess the data to ensure its accuracy and \\nreliability.  \\nData Analysis: They use statistical techniques, data visualization tools, and \\nmachine learning algor ithms to analyze data and extract insights. This analysis \\nhelps identify trends, patterns, correlations, and outliers within the data.  \\nData Interpretation: Once they've analyzed the data, they interpret the results \\nand translate them into actionable insigh ts or recommendations for decision -\\nmakers.  \\nReporting: Data analysts create reports, dashboards, and presentations to \\ncommunicate their findings effectively to stakeholders, such as executives, \\nmanagers, or clients.  \\nContinuous Improvement: They continually refine their analytical methods, \\nexplore new tools and technologies, and stay updated with industry trends to \\nenhance their data analysis capabilities.  \\nOverall, data analysts play a crucial role in helping organizations leverage their \\ndata assets to drive strategic decision -making, optimize processes, and achieve \\nbusiness objectives.  \\n \\n \\n \\n \\n \", metadata={'source': 'C:\\\\Users\\\\Lenovo\\\\Documents\\\\Project-vs code\\\\Amazon Transcribe\\\\One Pharma\\\\test-6.pdf', 'page': 0}), Document(page_content='DevOps : \\nDevOps is a set of practices and cultural philosophies that aims to improve \\ncollaboration and communication between software development (Dev) and \\ninformation technology operati ons (Ops) teams. The primary goal of DevOps is \\nto streamline the software development lifecycle, from planning and \\ndevelopment to deployment and operations, by fostering a culture of \\ncollaboration, automation, and continuous improvement.  \\nKey principles of DevOps include:  \\nCulture: DevOps emphasizes a culture of collaboration, shared responsibility, \\nand continuous learning among development, operations, and other \\nstakeholders.  \\nAutomation: Automation is crucial in DevOps for tasks such as building, testing, \\ndeployment, and infrastructure provisioning. Automation helps increase \\nefficiency, reduce errors, and accelerate the delivery of software.  \\nContinuous Integration (CI): CI involves integrating code changes into a shared \\nrepository frequently, usually several times a day. Each integration triggers \\nautomated tests to ensure that the changes do not introduce defects.  \\nContinuous Delivery (CD): CD extends CI by automatically deploying all code \\nchanges to a production environment after passing through the automated \\ntesting phase. This allows for faster and more reliable software releases.  \\nInfrastructure as Code (IaC): IaC involves managing and provisioning \\ninfrastructure through machine -readable definition files rather than manually \\nconfiguring hardware or using inte ractive configuration tools. This approach \\nallows for consistent, repeatable, and scalable infrastructure deployments.  \\nMonitoring and Feedback: DevOps emphasizes real -time monitoring of \\napplications and infrastructure to detect issues quickly and gather fe edback for \\ncontinuous improvement.  \\nBy adopting DevOps practices, organizations can achieve faster delivery of \\nhigh -quality software, improved collaboration between teams, increased \\nagility to respond to changing market demands, and greater overall efficien cy \\nin software development and operations.  ', metadata={'source': 'C:\\\\Users\\\\Lenovo\\\\Documents\\\\Project-vs code\\\\Amazon Transcribe\\\\One Pharma\\\\test-6.pdf', 'page': 1})]\n"
     ]
    }
   ],
   "source": [
    "print(docs)"
   ]
  },
  {
   "cell_type": "code",
   "execution_count": 21,
   "metadata": {},
   "outputs": [
    {
     "name": "stdout",
     "output_type": "stream",
     "text": [
      " Here are the relevant details about contracts from the given documents:\n",
      "\n",
      "document 1(filename:test-1.pdf)\n",
      "A contract is essentially a legally binding agreement between two or more parties. It \n",
      "lays out specific rights and obligations that each party involved has to follow. Think of \n",
      "it as a formal way to ensure everyone involved in the agreement is on the same \n",
      "page and understands what's expected of them.  \n",
      "\n",
      "Key points about contracts:\n",
      "\n",
      "● Legally enforceable: If someone breaches the contract (fails to uphold their end of the deal), the injured \n",
      "party can take legal action to seek compensation or enforce the terms of the \n",
      "agreement.  \n",
      "\n",
      "● Exchange of value: There needs to be a reason for the contract to exist, usually involving an exchange of something valuable like money, goods \n",
      "or services. \n",
      "\n",
      "● Formal vs. Informal: Contracts can be written or verbal. However, written contracts are generally considered stronger evidence in case of a disagreement.\n",
      "\n",
      "● Widespread use: Contracts are used in situations like business deals, employment agreements, renting an apartment or buying a house.\n",
      "\n",
      "document 4(filename:test-4.pdf)\n",
      "A contract is a legally binding agreement between two or more parties, \n",
      "outlining the rights and obligations of each party involved. Key elements of a contract typically include an offer, \n",
      "acceptance, consideration (something of value exchanged between the \n",
      "parties), legal capacity of the parties to enter into the agreement, and a lawful \n",
      "purpose. Contracts can be verbal or written, though written contracts are \n",
      "generally preferred as they provide clearer evidence of the terms agreed upon.\n"
     ]
    }
   ],
   "source": [
    "result = llm_chain.run(datas= docs,question = \"tell me about contract\")\n",
    "print(result)"
   ]
  }
 ],
 "metadata": {
  "kernelspec": {
   "display_name": "base",
   "language": "python",
   "name": "python3"
  },
  "language_info": {
   "codemirror_mode": {
    "name": "ipython",
    "version": 3
   },
   "file_extension": ".py",
   "mimetype": "text/x-python",
   "name": "python",
   "nbconvert_exporter": "python",
   "pygments_lexer": "ipython3",
   "version": "3.11.5"
  }
 },
 "nbformat": 4,
 "nbformat_minor": 2
}
